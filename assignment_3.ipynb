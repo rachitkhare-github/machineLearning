{
 "cells": [
  {
   "cell_type": "markdown",
   "metadata": {},
   "source": [
    "1.1 - Write a function to compute 5/0 and use try/except to catch the exceptions"
   ]
  },
  {
   "cell_type": "code",
   "execution_count": 8,
   "metadata": {},
   "outputs": [
    {
     "name": "stdout",
     "output_type": "stream",
     "text": [
      "------------------------------------------------------------\n",
      "A zero divide error has occurred. Please check !!\n",
      "------------------------------------------------------------\n"
     ]
    }
   ],
   "source": [
    "print(\"-\" * 60 )\n",
    "\n",
    "# try block to catch the zero divide error \n",
    "try :\n",
    "    a = 5/0\n",
    "except ZeroDivisionError :\n",
    "    print (\"A zero divide error has occurred. Please check !!\")\n",
    "else :\n",
    "    print(a)\n",
    "\n",
    "print(\"-\" * 60 )"
   ]
  },
  {
   "cell_type": "markdown",
   "metadata": {},
   "source": [
    "1.2 - Implement a Python program to generate all sentences \n",
    "where \n",
    "subject is in [\"Americans\",\"Indians\"]\n",
    "and verb is in [\"Play\", \"watch\"] \n",
    "and the object is in [\"Baseball\",\"cricket\"].\n",
    "\n",
    "Hint: Subject,Verb and Object should be declared in the program as shown below.\n",
    "subjects=[\"Americans \",\"Indians\"]\n",
    "verbs=[\"play\",\"watch\"]\n",
    "objects=[\"Baseball\",\"Cricket\"]\n",
    "\n",
    "Output should come as below:\n",
    "Americans play Baseball.\n",
    "Americans play Cricket.\n",
    "Americans watch Baseball.\n",
    "Americans watch Cricket.\n",
    "Indians play Baseball.\n",
    "Indians play Cricket.\n",
    "Indians watch Baseball.\n",
    "Indians watch Cricket"
   ]
  },
  {
   "cell_type": "code",
   "execution_count": 12,
   "metadata": {},
   "outputs": [
    {
     "name": "stdout",
     "output_type": "stream",
     "text": [
      "------------------------------------------------------------\n",
      "Americans play Baseball\n",
      "Americans play Cricket\n",
      "Americans watch Baseball\n",
      "Americans watch Cricket\n",
      "Indians play Baseball\n",
      "Indians play Cricket\n",
      "Indians watch Baseball\n",
      "Indians watch Cricket\n",
      "------------------------------------------------------------\n"
     ]
    }
   ],
   "source": [
    "# Implementation of addition of Matrices\n",
    "\n",
    "subjects = [\"Americans\",\"Indians\"] \n",
    "verbs=[\"play\",\"watch\"]\n",
    "objects=[\"Baseball\",\"Cricket\"]\n",
    "\n",
    "print(\"-\" * 60 )\n",
    "\n",
    "for i in range(len(subjects)) :\n",
    "    for j in range(len(verbs)) :\n",
    "        for k in range(len(objects)) :\n",
    "            l = subjects[i] + \" \" + verbs[j] + \" \" + objects[k]\n",
    "            print(l)\n",
    "            \n",
    "print(\"-\" * 60 )"
   ]
  },
  {
   "cell_type": "markdown",
   "metadata": {},
   "source": [
    "2.1 - Write a function so that the columns of the output matrix are powers of the input vector.\n",
    "\n",
    "The order of the powers is determined by the increasing boolean argument. Specifically, when\n",
    "increasing is False, the i-th output column is the input vector raised element-wise to the power\n",
    "of N - i - 1.\n",
    "\n",
    "HINT: Such a matrix with a geometric progression in each row is named for Alexandre-Theophile Vandermonde"
   ]
  },
  {
   "cell_type": "code",
   "execution_count": 37,
   "metadata": {},
   "outputs": [
    {
     "name": "stdout",
     "output_type": "stream",
     "text": [
      "------------------------------------------------------------\n",
      "The input array is: [1 2 3 4 5 6] \n",
      "\n",
      "Number of columns in output matrix should be: 3 \n",
      "\n",
      "------------------------------------------------------------\n",
      "Vander matrix of the input array in increasing order of powers:\n",
      "\n",
      " [[ 1  1  1]\n",
      " [ 1  2  4]\n",
      " [ 1  3  9]\n",
      " [ 1  4 16]\n",
      " [ 1  5 25]\n",
      " [ 1  6 36]] \n",
      "\n",
      "------------------------------------------------------------\n",
      "Vander matrix of the input array in decreasing order of powers:\n",
      "\n",
      " [[ 1  1  1]\n",
      " [ 4  2  1]\n",
      " [ 9  3  1]\n",
      " [16  4  1]\n",
      " [25  5  1]\n",
      " [36  6  1]] \n",
      "\n",
      "------------------------------------------------------------\n"
     ]
    }
   ],
   "source": [
    "import numpy as np \n",
    "   \n",
    "def gen_vander_matrix(inputVector, n, increasing=False):\n",
    "    \n",
    "    if not increasing:\n",
    "        output_matx = np.array([x**(n-1-i) for x in inputVector for i in range(n)]).reshape(inputVector.size,n)\n",
    "    elif increasing:\n",
    "        output_matx = np.array([x**i for x in inputVector for i in range(n)]).reshape(inputVector.size,n)    \n",
    "    return output_matx\n",
    "\n",
    "print(\"-\" * 60 )\n",
    "\n",
    "inputvector = np.array([1,2,3,4,5,6])\n",
    "numberOfColumnsInOutputMatx = 3\n",
    "vand_matx_inc_order = gen_vander_matrix(inputvector,numberOfColumnsInOutputMatx,True)\n",
    "vand_matx_dec_order = gen_vander_matrix(inputvector,numberOfColumnsInOutputMatx,False)\n",
    "\n",
    "print(\"The input array is:\",inputvector,\"\\n\")\n",
    "print(\"Number of columns in output matrix should be:\",numberOfColumnsInOutputMatx,\"\\n\")\n",
    "print(\"-\" * 60 )\n",
    "print(\"Vander matrix of the input array in increasing order of powers:\\n\\n\",vand_matx_inc_order,\"\\n\")\n",
    "print(\"-\" * 60 )\n",
    "print(\"Vander matrix of the input array in decreasing order of powers:\\n\\n\",vand_matx_dec_order,\"\\n\")\n",
    "print(\"-\" * 60 )"
   ]
  }
 ],
 "metadata": {
  "kernelspec": {
   "display_name": "Python 3",
   "language": "python",
   "name": "python3"
  },
  "language_info": {
   "codemirror_mode": {
    "name": "ipython",
    "version": 3
   },
   "file_extension": ".py",
   "mimetype": "text/x-python",
   "name": "python",
   "nbconvert_exporter": "python",
   "pygments_lexer": "ipython3",
   "version": "3.7.4"
  }
 },
 "nbformat": 4,
 "nbformat_minor": 2
}
