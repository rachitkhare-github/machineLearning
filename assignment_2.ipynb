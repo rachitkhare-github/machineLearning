{
 "cells": [
  {
   "cell_type": "markdown",
   "metadata": {},
   "source": [
    "1.1 - Write a Python Program to implement your own myreduce() function which works exactly likePython's built-in function reduce()\n",
    "\n",
    "The function reduce(function, sequence) continually applies the function to the sequence. It then returns a single value. \n",
    "\n",
    "If seq = [s1, s2, s3, ... , sn], calling reduce(function, sequence) works like this:\n",
    "\n",
    "* At first the first two elements of sequence will be applied to function, i.e. func(s1,s2) \n",
    "* The list on which reduce() works looks like this: [ function(s1, s2), s3, ... , sn ]\n",
    "* In the next step the function will be applied on the previous result and the third element of the list, i.e. function(function(s1, s2),s3)\n",
    "* The list looks like: [ function(function(s1, s2),s3), ... , sn ]\n",
    "* It continues like this until just one element is left and return this element as the result of reduce()"
   ]
  },
  {
   "cell_type": "code",
   "execution_count": 32,
   "metadata": {},
   "outputs": [],
   "source": [
    "#custom function to add two numbers to be used in reduce function\n",
    "\n",
    "def add(arg1,arg2) :\n",
    "    return arg1 + arg2\n",
    "\n",
    "#my reduce function\n",
    "\n",
    "def myreduce(myfunction,myList) :\n",
    "    \n",
    "    s1 = myList[0]\n",
    "    s2 = myList[1]\n",
    "    \n",
    "    result = myfunction(s1,s2)\n",
    "    \n",
    "    for i in myList[2:] :\n",
    "        result = myfunction(result, i)\n",
    "        \n",
    "    return result"
   ]
  },
  {
   "cell_type": "code",
   "execution_count": 62,
   "metadata": {},
   "outputs": [
    {
     "name": "stdout",
     "output_type": "stream",
     "text": [
      "--------------------------------------------------------------------------------------------------------\n",
      "myReduce custom function adds evens each element of list -  [1, 2, 3, 4, 5] and result is 15\n",
      "--------------------------------------------------------------------------------------------------------\n"
     ]
    }
   ],
   "source": [
    "myList = list(range(1,6))\n",
    "\n",
    "print(\"--------------------------------------------------------------------------------------------------------\")\n",
    "print(\"myReduce custom function adds evens each element of list -  \" + str(myList) \n",
    "      + \" and result is \" + str(myreduce(add,myList)))\n",
    "print(\"--------------------------------------------------------------------------------------------------------\")"
   ]
  },
  {
   "cell_type": "markdown",
   "metadata": {},
   "source": []
  },
  {
   "cell_type": "markdown",
   "metadata": {},
   "source": [
    "1.2 - Write a Python program to implement your own myfilter() function which works exactly like\n",
    "Python's built-in function filter()\n",
    "\n",
    "The function filter(function(),l) needs a function as its first argument. The function needs to return a Boolean value (either True or False). This function will be applied to every element of the iterable. Only if the function returns \"True\" will the element of the iterable be included in the result."
   ]
  },
  {
   "cell_type": "code",
   "execution_count": 55,
   "metadata": {},
   "outputs": [],
   "source": [
    "#custom function to determine if a function is even\n",
    "\n",
    "def isEven(arg1) :\n",
    "    if(arg1 % 2 == 0) :\n",
    "        return True\n",
    "    else :\n",
    "        return False\n",
    "\n",
    "#my reduce function\n",
    "\n",
    "def myFilter(myfunction,myList) :\n",
    "\n",
    "    result = []\n",
    "    for i in myList :\n",
    "        if (myfunction(i)) :\n",
    "            result.append(i)\n",
    "        \n",
    "    return result"
   ]
  },
  {
   "cell_type": "code",
   "execution_count": 63,
   "metadata": {},
   "outputs": [
    {
     "name": "stdout",
     "output_type": "stream",
     "text": [
      "--------------------------------------------------------------------------------------------------------\n",
      "myFilter custom function filters list -  [1, 2, 3, 4, 5, 6, 7, 8, 9] for even numbers and result is [2, 4, 6, 8]\n",
      "--------------------------------------------------------------------------------------------------------\n"
     ]
    }
   ],
   "source": [
    "myList= list(range(1,10))\n",
    "\n",
    "print(\"--------------------------------------------------------------------------------------------------------\")\n",
    "print(\"myFilter custom function filters list -  \" + str(myList) + \n",
    "      \" for even numbers and result is \" + str(myFilter(isEven,myList)))\n",
    "print(\"--------------------------------------------------------------------------------------------------------\")"
   ]
  },
  {
   "cell_type": "markdown",
   "metadata": {},
   "source": [
    "2 -Implement List comprehensions to produce the following lists.\n",
    "Write List comprehensions to produce the following Lists\n",
    "['A', 'C', 'A', 'D', 'G', 'I', ’L’, ‘ D’]\n",
    "['x', 'xx', 'xxx', 'xxxx', 'y', 'yy', 'yyy', 'yyyy', 'z', 'zz', 'zzz', 'zzzz']\n",
    "['x', 'y', 'z', 'xx', 'yy', 'zz', 'xx', 'yy', 'zz', 'xxxx', 'yyyy', 'zzzz']\n",
    "[[2], [3], [4], [3], [4], [5], [4], [5], [6]]\n",
    "[[2, 3, 4, 5], [3, 4, 5, 6], [4, 5, 6, 7], [5, 6, 7, 8]]\n",
    "[(1, 1), (2, 1), (3, 1), (1, 2), (2, 2), (3, 2), (1, 3), (2, 3), (3, 3)]"
   ]
  },
  {
   "cell_type": "code",
   "execution_count": 86,
   "metadata": {
    "scrolled": false
   },
   "outputs": [
    {
     "name": "stdout",
     "output_type": "stream",
     "text": [
      "--------------------------------------------------------------------------------------------------------\n",
      "['A', 'C', 'A', 'D', 'G', 'I', 'L', 'D']\n",
      "--------------------------------------------------------------------------------------------------------\n",
      "['x', 'xx', 'xxx', 'xxxx', 'y', 'yy', 'yyy', 'yyyy', 'z', 'zz', 'zzz', 'zzzz']\n",
      "--------------------------------------------------------------------------------------------------------\n",
      "['x', 'y', 'z', 'xx', 'yy', 'zz', 'xxx', 'yyy', 'zzz', 'xxxx', 'yyyy', 'zzzz']\n",
      "-------------------------------------------]-------------------------------------------------------------\n",
      "[[2], [3], [4], [3], [4], [5], [4], [5], [6]]\n",
      "--------------------------------------------------------------------------------------------------------\n",
      "[[2, 3, 4, 5], [3, 4, 5, 6], [4, 5, 6, 7], [5, 6, 7, 8]]\n",
      "--------------------------------------------------------------------------------------------------------\n",
      "[[(1, 1)], [(2, 1)], [(3, 1)], [(1, 2)], [(2, 2)], [(3, 2)], [(1, 3)], [(2, 3)], [(3, 3)]]\n",
      "--------------------------------------------------------------------------------------------------------\n"
     ]
    }
   ],
   "source": [
    "print(\"--------------------------------------------------------------------------------------------------------\")\n",
    "print([letter for letter in \"ACADGILD\"])\n",
    "print(\"--------------------------------------------------------------------------------------------------------\")\n",
    "print([var*y for var in \"xyz\" for y in range(1,5)])\n",
    "print(\"--------------------------------------------------------------------------------------------------------\")\n",
    "print([var*y for var in range(1,5) for y in \"xyz\"])\n",
    "print(\"-------------------------------------------]-------------------------------------------------------------\")\n",
    "print([[j] for i in range(5,8) for j in range(i-3,i)])\n",
    "print(\"--------------------------------------------------------------------------------------------------------\")\n",
    "print([[j for j in range(i-4,i)] for i in range(6,10)])\n",
    "print(\"--------------------------------------------------------------------------------------------------------\")\n",
    "print([[(j,i)] for i in range(1,4) for j in range(1,4)])\n",
    "print(\"--------------------------------------------------------------------------------------------------------\")"
   ]
  },
  {
   "cell_type": "code",
   "execution_count": null,
   "metadata": {},
   "outputs": [],
   "source": [
    "3- Implement a function longestWord() that takes a list of words and returns the longest one"
   ]
  },
  {
   "cell_type": "code",
   "execution_count": 33,
   "metadata": {
    "scrolled": true
   },
   "outputs": [
    {
     "name": "stdout",
     "output_type": "stream",
     "text": [
      "--------------------------------------------------------------------------------------------------------\n",
      "The input list is - ['x', 'xx', 'xxx', 'xxxx', 'y', 'yy', 'yyy', 'yyyy', 'z', 'zz', 'zzz', 'zzzz']\n",
      "\n",
      "The longest words in the list are - \n",
      "xxxx\n",
      "yyyy\n",
      "zzzz\n",
      "\n",
      "which are of length - 4\n",
      "--------------------------------------------------------------------------------------------------------\n"
     ]
    }
   ],
   "source": [
    "# longestWord finds the longest word/words from the given list\n",
    "\n",
    "def longestWord(listOfWords) :    \n",
    "    \n",
    "    count = 0\n",
    "    word= \"\"\n",
    "    words=[]\n",
    "    \n",
    "# First loop to check if the word of maximum length\n",
    "    for i in listOfWords:\n",
    "        if (count < len(i)) :\n",
    "            count = len(i)\n",
    "\n",
    "# Second loop to check if there are more words of same length in the input list\n",
    "    for i in listOfWords :\n",
    "        if(count<=len(i)) :\n",
    "            words.append(i)\n",
    "        \n",
    "    return(words,count)\n",
    "                  \n",
    "listOfWords = ([var*y for var in \"xyz\" for y in range(1,5)])\n",
    "\n",
    "print(\"--------------------------------------------------------------------------------------------------------\")\n",
    "\n",
    "print(\"The input list is - \" + str(listOfWords))\n",
    "\n",
    "words = longestWord(listOfWords)\n",
    "\n",
    "# Print the set of longest word/words given in the input list\n",
    "l = words[0]\n",
    "\n",
    "if (len(l) == 1) :\n",
    "    print(\"The longest word is - \" + str(l) + \" of length - \" + str(words[1]))\n",
    "else :\n",
    "    print(\"\\nThe longest words in the list are - \")\n",
    "    for i in l :\n",
    "        print(i)\n",
    "    print(\"\\nwhich are of length - \" + str(words[1]))\n",
    "\n",
    "print(\"--------------------------------------------------------------------------------------------------------\")"
   ]
  },
  {
   "cell_type": "markdown",
   "metadata": {},
   "source": [
    "# Task 2.1.1 -Write a Python Program(with class concepts) to find the area of the triangle using the below formula.\n",
    "area = (s*(s-a)*(s-b)*(s-c)) ** 0.5\n",
    "Function to take the length of the sides of triangle from user should be defined in the parent\n",
    "class and function to calculate the area should be defined in subclass."
   ]
  },
  {
   "cell_type": "code",
   "execution_count": 45,
   "metadata": {},
   "outputs": [
    {
     "name": "stdout",
     "output_type": "stream",
     "text": [
      "--------------------------------------------------------------------------------------------------------\n",
      "Area of the triangle - 1.96875\n",
      "--------------------------------------------------------------------------------------------------------\n"
     ]
    }
   ],
   "source": [
    "class SidesOfTraingle :\n",
    "    def __init__(self,a,b,c) :\n",
    "        self.a = a\n",
    "        self.b = b\n",
    "        self.c = c\n",
    "    \n",
    "class AreaOfTriangle(SidesOfTraingle):\n",
    "    def __init__(self, *args):\n",
    "        super(AreaOfTriangle,self).__init__(*args)\n",
    "        \n",
    "    def area(self):\n",
    "        s = (self.a + self.b + self.c)/2\n",
    "        area = (s*(s-self.a)*(s-self.b)*(s-self.c)) * 0.5\n",
    "        return area\n",
    "\n",
    "a = AreaOfTriangle(1,4,4)\n",
    "\n",
    "print(\"--------------------------------------------------------------------------------------------------------\")\n",
    "print(\"Area of the triangle - \" + str(a.area()))\n",
    "print(\"--------------------------------------------------------------------------------------------------------\")"
   ]
  },
  {
   "cell_type": "markdown",
   "metadata": {},
   "source": [
    "1.2 - Write a function filter_long_words() that takes a list of words and an integer n and returns the list\n",
    "of words that are longer than n."
   ]
  },
  {
   "cell_type": "code",
   "execution_count": 51,
   "metadata": {},
   "outputs": [
    {
     "name": "stdout",
     "output_type": "stream",
     "text": [
      "--------------------------------------------------------------------------------------------------------\n",
      "The input list is - ['x', 'xx', 'xxx', 'xxxx', 'y', 'yy', 'yyy', 'yyyy', 'z', 'zz', 'zzz', 'zzzz'] and the filter the words greater than length - 2\n",
      "\n",
      "Filtered list of words - ['xxx', 'xxxx', 'yyy', 'yyyy', 'zzz', 'zzzz']\n",
      "--------------------------------------------------------------------------------------------------------\n"
     ]
    }
   ],
   "source": [
    "# filter_long_words finds the longest word/words from the given list as per to the filter condition length\n",
    "\n",
    "def filter_long_words(listOfWords,filterLength) :    \n",
    "    \n",
    "    count = 0\n",
    "    word= \"\"\n",
    "    words=[]\n",
    "\n",
    "# Loop to check the words greater than the filter condition input\n",
    "\n",
    "    for i in listOfWords :\n",
    "        if(filterLength<len(i)) :\n",
    "            words.append(i)\n",
    "        \n",
    "    return(words)\n",
    "                  \n",
    "listOfWords = ([var*y for var in \"xyz\" for y in range(1,5)])\n",
    "filterLength = 2\n",
    "\n",
    "print(\"--------------------------------------------------------------------------------------------------------\")\n",
    "\n",
    "print(\"The input list is - \" + str(listOfWords) + \" and the filter the words greater than length - \" + str(filterLength))\n",
    "\n",
    "words = filter_long_words(listOfWords,filterLength)\n",
    "\n",
    "print(\"\\nFiltered list of words - \" + str(words))\n",
    "print(\"--------------------------------------------------------------------------------------------------------\")"
   ]
  },
  {
   "cell_type": "markdown",
   "metadata": {},
   "source": [
    "2.1 - Write a Python program using function concept that maps list of words into a list of integers\n",
    "representing the lengths of the corresponding words .\n",
    "Hint: If a list [ ab,cde,erty] is passed on to the python function output should come as [2,3,4]\n",
    "Here 2,3 and 4 are the lengths of the words in the list."
   ]
  },
  {
   "cell_type": "code",
   "execution_count": 54,
   "metadata": {},
   "outputs": [
    {
     "name": "stdout",
     "output_type": "stream",
     "text": [
      "--------------------------------------------------------------------------------------------------------\n",
      "The input list is - ['x', 'xx', 'xxx', 'xxxx', 'y', 'yy', 'yyy', 'yyyy', 'z', 'zz', 'zzz', 'zzzz']\n",
      "\n",
      "List of length of words - [1, 2, 3, 4, 1, 2, 3, 4, 1, 2, 3, 4]\n",
      "--------------------------------------------------------------------------------------------------------\n"
     ]
    }
   ],
   "source": [
    "# length of words returns the length of words in a list \n",
    "\n",
    "def length_of_words(listOfWords) :    \n",
    "\n",
    "    words=[]\n",
    "\n",
    "# Loop to check the length of each word in the list\n",
    "\n",
    "    for i in listOfWords :\n",
    "            words.append(len(i))\n",
    "        \n",
    "    return(words)\n",
    "                  \n",
    "listOfWords = ([var*y for var in \"xyz\" for y in range(1,5)])\n",
    "\n",
    "print(\"--------------------------------------------------------------------------------------------------------\")\n",
    "\n",
    "print(\"The input list is - \" + str(listOfWords))\n",
    "\n",
    "words = length_of_words(listOfWords)\n",
    "\n",
    "print(\"\\nList of length of words - \" + str(words))\n",
    "print(\"--------------------------------------------------------------------------------------------------------\")"
   ]
  },
  {
   "cell_type": "markdown",
   "metadata": {},
   "source": [
    "2.2 - Write a Python function which takes a character (i.e. a string of length 1) and returns True if it is\n",
    "a vowel, False otherwise."
   ]
  },
  {
   "cell_type": "code",
   "execution_count": 59,
   "metadata": {},
   "outputs": [
    {
     "name": "stdout",
     "output_type": "stream",
     "text": [
      "--------------------------------------------------------------------------------------------------------\n",
      "Is the character p a vowel - False\n",
      "--------------------------------------------------------------------------------------------------------\n",
      "Is the character u a vowel - True\n",
      "--------------------------------------------------------------------------------------------------------\n"
     ]
    }
   ],
   "source": [
    "# function to find out a vowel\n",
    "\n",
    "def check_for_vowel(character) :\n",
    "    \n",
    "    vowels = ['a','e','i','o','u']\n",
    "    \n",
    "    bool = False\n",
    "    \n",
    "    for v in vowels :\n",
    "        if(character==v) :\n",
    "             bool = True\n",
    "    return bool\n",
    "\n",
    "print(\"--------------------------------------------------------------------------------------------------------\")\n",
    "character = 'p'\n",
    "print(\"Is the character \" + character + \" a vowel - \" + str(check_for_vowel(character)))\n",
    "\n",
    "print(\"--------------------------------------------------------------------------------------------------------\")\n",
    "character = 'u'\n",
    "print(\"Is the character \" + character + \" a vowel - \" + str(check_for_vowel(character)))\n",
    "\n",
    "print(\"--------------------------------------------------------------------------------------------------------\")\n",
    "    "
   ]
  }
 ],
 "metadata": {
  "kernelspec": {
   "display_name": "Python 3",
   "language": "python",
   "name": "python3"
  },
  "language_info": {
   "codemirror_mode": {
    "name": "ipython",
    "version": 3
   },
   "file_extension": ".py",
   "mimetype": "text/x-python",
   "name": "python",
   "nbconvert_exporter": "python",
   "pygments_lexer": "ipython3",
   "version": "3.7.4"
  }
 },
 "nbformat": 4,
 "nbformat_minor": 2
}
